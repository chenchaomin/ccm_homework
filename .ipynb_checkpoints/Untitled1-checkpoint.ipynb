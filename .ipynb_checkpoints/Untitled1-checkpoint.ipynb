{
 "cells": [
  {
   "cell_type": "code",
   "execution_count": 1,
   "metadata": {},
   "outputs": [
    {
     "name": "stdout",
     "output_type": "stream",
     "text": [
      "23456\n",
      "no\n"
     ]
    }
   ],
   "source": [
    "a = input()\n",
    "def fun(number):\n",
    "    for x in range(len(a)//2):\n",
    "        if a[x] == a[-(x+1)]:\n",
    "            continue\n",
    "        else:\n",
    "           return 'no'\n",
    " \n",
    "if fun(a) == 'no':\n",
    "    print('no')\n",
    "else:\n",
    "    print('yes')"
   ]
  },
  {
   "cell_type": "code",
   "execution_count": 2,
   "metadata": {},
   "outputs": [
    {
     "name": "stdout",
     "output_type": "stream",
     "text": [
      "托儿所儿童平均月龄为26.95\n",
      "托儿所的最大月龄为37\n",
      "托儿所的最小月龄为18\n",
      "月龄为30的儿童有3个\n"
     ]
    }
   ],
   "source": [
    "x = [18, 18, 19, 19, 24, 23, 22, 22, 21, 20, 19, 22, 23, 24, 24]\n",
    "y = [25, 28, 30, 29, 28, 27, 27, 25, 26, 25, 26, 27, 24]\n",
    "z = [31, 33, 32, 32, 32, 34, 34, 35, 36, 35, 36, 37, 30, 30]\n",
    "lst = x + y + z\n",
    "print('托儿所儿童平均月龄为{:.2f}'.format(sum(lst)/len(lst)))\n",
    "print(f'托儿所的最大月龄为{max(lst)}')\n",
    "print(f'托儿所的最小月龄为{min(lst)}')\n",
    "print(f'月龄为30的儿童有{lst.count(30)}个')"
   ]
  },
  {
   "cell_type": "code",
   "execution_count": 3,
   "metadata": {},
   "outputs": [
    {
     "name": "stdout",
     "output_type": "stream",
     "text": [
      "月龄最大的三个儿童的月龄分别是(37, 36, 36)\n"
     ]
    }
   ],
   "source": [
    "x = max(lst)\n",
    "lst.remove(x)\n",
    "y = max(lst)\n",
    "lst.remove(y)\n",
    "z = max(lst)\n",
    "print(f'月龄最大的三个儿童的月龄分别是{x, y, z}')"
   ]
  },
  {
   "cell_type": "code",
   "execution_count": 4,
   "metadata": {},
   "outputs": [
    {
     "name": "stdout",
     "output_type": "stream",
     "text": [
      "9\n",
      "        +\n",
      "       +++\n",
      "      +++++\n",
      "     +++++++\n",
      "    +++++++++\n",
      "   +++++++++++\n",
      "  +++++++++++++\n",
      " +++++++++++++++\n",
      "+++++++++++++++++\n"
     ]
    }
   ],
   "source": [
    "a = int(input())\n",
    " \n",
    "for x in range(1,a+1):\n",
    "    print(' '*(a-x) + '+'*(2*x-1))"
   ]
  },
  {
   "cell_type": "code",
   "execution_count": 2,
   "metadata": {},
   "outputs": [
    {
     "name": "stdout",
     "output_type": "stream",
     "text": [
      "1 2 3\n",
      "1 2 4\n",
      "1 3 2\n",
      "1 3 4\n",
      "1 4 2\n",
      "1 4 3\n",
      "2 1 3\n",
      "2 1 4\n",
      "2 3 1\n",
      "2 3 4\n",
      "2 4 1\n",
      "2 4 3\n",
      "3 1 2\n",
      "3 1 4\n",
      "3 2 1\n",
      "3 2 4\n",
      "3 4 1\n",
      "3 4 2\n",
      "4 1 2\n",
      "4 1 3\n",
      "4 2 1\n",
      "4 2 3\n",
      "4 3 1\n",
      "4 3 2\n",
      "24\n"
     ]
    }
   ],
   "source": [
    "total=0\n",
    "for i in range(1,5):\n",
    "    for j in range(1,5):\n",
    "        for k in range(1,5):\n",
    "            if ((i!=j)and(j!=k)and(k!=i)):\n",
    "                print(i,j,k)\n",
    "                total+=1\n",
    "print(total)"
   ]
  },
  {
   "cell_type": "code",
   "execution_count": null,
   "metadata": {},
   "outputs": [],
   "source": []
  }
 ],
 "metadata": {
  "kernelspec": {
   "display_name": "Python 3",
   "language": "python",
   "name": "python3"
  },
  "language_info": {
   "codemirror_mode": {
    "name": "ipython",
    "version": 3
   },
   "file_extension": ".py",
   "mimetype": "text/x-python",
   "name": "python",
   "nbconvert_exporter": "python",
   "pygments_lexer": "ipython3",
   "version": "3.6.8"
  }
 },
 "nbformat": 4,
 "nbformat_minor": 2
}
