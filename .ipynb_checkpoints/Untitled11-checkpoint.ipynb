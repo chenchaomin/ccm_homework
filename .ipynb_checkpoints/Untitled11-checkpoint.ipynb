{
 "cells": [
  {
   "cell_type": "code",
   "execution_count": 1,
   "metadata": {},
   "outputs": [
    {
     "name": "stdout",
     "output_type": "stream",
     "text": [
      "输入一个数字：456\n",
      "其平方为： 207936.0\n",
      "输入一个数字：678\n",
      "其平方为： 459684.0\n",
      "输入一个数字：234\n",
      "其平方为： 54756.0\n",
      "输入一个数字：2\n",
      "其平方为： 4.0\n",
      "平方小于50，退出\n"
     ]
    }
   ],
   "source": [
    "while True:\n",
    "    try:\n",
    "        n=float(input('输入一个数字：'))\n",
    "    except:\n",
    "        print('输入错误')\n",
    "        continue\n",
    "    dn=n**2\n",
    "    print('其平方为：',dn)\n",
    "    if dn<50:\n",
    "        print('平方小于50，退出')\n",
    "        break"
   ]
  },
  {
   "cell_type": "code",
   "execution_count": 2,
   "metadata": {},
   "outputs": [
    {
     "name": "stdout",
     "output_type": "stream",
     "text": [
      "10 0\n"
     ]
    }
   ],
   "source": [
    "def exc(a,b):\n",
    "    return (b,a)\n",
    "a=0\n",
    "b=10\n",
    "a,b=exc(a,b)\n",
    "print(a,b)"
   ]
  },
  {
   "cell_type": "code",
   "execution_count": 3,
   "metadata": {},
   "outputs": [
    {
     "name": "stdout",
     "output_type": "stream",
     "text": [
      "a=23\n",
      "b=23\n",
      "a=b\n"
     ]
    }
   ],
   "source": [
    "a=int(input('a='))\n",
    "b=int(input('b='))\n",
    "if a<b:\n",
    "    print('a<b')\n",
    "elif a>b:\n",
    "    print('a>b')\n",
    "else:\n",
    "    print('a=b')"
   ]
  },
  {
   "cell_type": "code",
   "execution_count": 1,
   "metadata": {},
   "outputs": [
    {
     "name": "stdout",
     "output_type": "stream",
     "text": [
      "10.823583857819777\n"
     ]
    }
   ],
   "source": [
    "import random\n",
    "print(random.uniform(10,20))"
   ]
  },
  {
   "cell_type": "code",
   "execution_count": 2,
   "metadata": {},
   "outputs": [
    {
     "name": "stdout",
     "output_type": "stream",
     "text": [
      "63\n",
      "3\n",
      "3\n"
     ]
    }
   ],
   "source": [
    "a=0o77\n",
    "print(a)\n",
    "b=a&3\n",
    "print(b)\n",
    "b=b&7\n",
    "print(b)"
   ]
  },
  {
   "cell_type": "code",
   "execution_count": null,
   "metadata": {},
   "outputs": [],
   "source": []
  }
 ],
 "metadata": {
  "kernelspec": {
   "display_name": "Python 3",
   "language": "python",
   "name": "python3"
  },
  "language_info": {
   "codemirror_mode": {
    "name": "ipython",
    "version": 3
   },
   "file_extension": ".py",
   "mimetype": "text/x-python",
   "name": "python",
   "nbconvert_exporter": "python",
   "pygments_lexer": "ipython3",
   "version": "3.6.8"
  }
 },
 "nbformat": 4,
 "nbformat_minor": 2
}
