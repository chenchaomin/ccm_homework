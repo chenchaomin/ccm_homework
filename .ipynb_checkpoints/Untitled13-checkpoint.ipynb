{
 "cells": [
  {
   "cell_type": "code",
   "execution_count": 1,
   "metadata": {},
   "outputs": [
    {
     "name": "stdout",
     "output_type": "stream",
     "text": [
      "[1]\n",
      "[1, 1]\n",
      "[1, 2, 1]\n",
      "[1, 3, 3, 1]\n",
      "[1, 4, 6, 4, 1]\n",
      "[1, 5, 10, 10, 5, 1]\n",
      "[1, 6, 15, 20, 15, 6, 1]\n",
      "[1, 7, 21, 35, 35, 21, 7, 1]\n",
      "[1, 8, 28, 56, 70, 56, 28, 8, 1]\n",
      "[1, 9, 36, 84, 126, 126, 84, 36, 9, 1]\n"
     ]
    }
   ],
   "source": [
    "def generate(numRows):\n",
    "    r = [[1]]\n",
    "    for i in range(1,numRows):\n",
    "        r.append(list(map(lambda x,y:x+y, [0]+r[-1],r[-1]+[0])))\n",
    "    return r[:numRows]\n",
    "a=generate(10)\n",
    "for i in a:\n",
    "    print(i)"
   ]
  },
  {
   "cell_type": "code",
   "execution_count": 2,
   "metadata": {},
   "outputs": [
    {
     "name": "stdout",
     "output_type": "stream",
     "text": [
      "[8, 2, 5, 7, 3, 5, 1]\n"
     ]
    }
   ],
   "source": [
    "li=[3,2,5,7,8,1,5]\n",
    "li[-1],li[li.index(min(li))]=li[li.index(min(li))],li[-1]\n",
    "m=li[0]\n",
    "ind=li.index(max(li))\n",
    "li[0]=li[ind]\n",
    "li[ind]=m\n",
    "print(li)"
   ]
  },
  {
   "cell_type": "code",
   "execution_count": 3,
   "metadata": {},
   "outputs": [
    {
     "name": "stdout",
     "output_type": "stream",
     "text": [
      "[1, 2, 3, 4, 5, 6, 7, 8, 9]\n",
      "rotate:2\n",
      "[8, 9, 1, 2, 3, 4, 5, 6, 7]\n"
     ]
    }
   ],
   "source": [
    "from collections import *\n",
    "li=[1,2,3,4,5,6,7,8,9]\n",
    "deq=deque(li,maxlen=len(li))\n",
    "print(li)\n",
    "deq.rotate(int(input('rotate:')))\n",
    "print(list(deq))\n"
   ]
  },
  {
   "cell_type": "code",
   "execution_count": 4,
   "metadata": {},
   "outputs": [
    {
     "name": "stdout",
     "output_type": "stream",
     "text": [
      "请输入总人数:56\n",
      "29\n"
     ]
    }
   ],
   "source": [
    "if __name__ == '__main__':\n",
    "    nmax = 50\n",
    "    n = int(input('请输入总人数:'))\n",
    "    num = []\n",
    "    for i in range(n):\n",
    "        num.append(i + 1)\n",
    "    i = 0\n",
    "    k = 0\n",
    "    m = 0\n",
    "    while m < n - 1:\n",
    "        if num[i] != 0 : k += 1\n",
    "        if k == 3:\n",
    "            num[i] = 0\n",
    "            k = 0\n",
    "            m += 1\n",
    "        i += 1\n",
    "        if i == n : i = 0\n",
    "    i = 0\n",
    "    while num[i] == 0: i += 1\n",
    "    print(num[i])"
   ]
  },
  {
   "cell_type": "code",
   "execution_count": 5,
   "metadata": {},
   "outputs": [
    {
     "name": "stdout",
     "output_type": "stream",
     "text": [
      "16\n"
     ]
    }
   ],
   "source": [
    "def lenofstr(s):\n",
    "    return len(s)\n",
    "print(lenofstr('tanxiaofengsheng'))"
   ]
  },
  {
   "cell_type": "code",
   "execution_count": null,
   "metadata": {},
   "outputs": [],
   "source": []
  }
 ],
 "metadata": {
  "kernelspec": {
   "display_name": "Python 3",
   "language": "python",
   "name": "python3"
  },
  "language_info": {
   "codemirror_mode": {
    "name": "ipython",
    "version": 3
   },
   "file_extension": ".py",
   "mimetype": "text/x-python",
   "name": "python",
   "nbconvert_exporter": "python",
   "pygments_lexer": "ipython3",
   "version": "3.6.8"
  }
 },
 "nbformat": 4,
 "nbformat_minor": 2
}
