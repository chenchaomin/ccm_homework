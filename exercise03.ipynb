{
 "cells": [
  {
   "cell_type": "code",
   "execution_count": 2,
   "metadata": {},
   "outputs": [
    {
     "name": "stdout",
     "output_type": "stream",
     "text": [
      "1 2 3\n",
      "1 2 4\n",
      "1 3 2\n",
      "1 3 4\n",
      "1 4 2\n",
      "1 4 3\n",
      "2 1 3\n",
      "2 1 4\n",
      "2 3 1\n",
      "2 3 4\n",
      "2 4 1\n",
      "2 4 3\n",
      "3 1 2\n",
      "3 1 4\n",
      "3 2 1\n",
      "3 2 4\n",
      "3 4 1\n",
      "3 4 2\n",
      "4 1 2\n",
      "4 1 3\n",
      "4 2 1\n",
      "4 2 3\n",
      "4 3 1\n",
      "4 3 2\n"
     ]
    }
   ],
   "source": [
    "for i in range(1,5):\n",
    "    for j in range(1,5):\n",
    "        for k in range(1,5):\n",
    "            if( i != k ) and (i != j) and (j != k):\n",
    "                print (i,j,k)\n",
    "                "
   ]
  },
  {
   "cell_type": "code",
   "execution_count": 5,
   "metadata": {},
   "outputs": [
    {
     "name": "stdout",
     "output_type": "stream",
     "text": [
      "-99.0\n",
      "21.0\n",
      "261.0\n",
      "1581.0\n"
     ]
    }
   ],
   "source": [
    "for i in range(1,85):\n",
    "    if 168 % i == 0:\n",
    "        j = 168 / i;\n",
    "        if  i > j and (i + j) % 2 == 0 and (i - j) % 2 == 0 :\n",
    "            m = (i + j) / 2\n",
    "            n = (i - j) / 2\n",
    "            x = n * n - 100\n",
    "            print(x)"
   ]
  },
  {
   "cell_type": "code",
   "execution_count": 11,
   "metadata": {},
   "outputs": [
    {
     "name": "stdout",
     "output_type": "stream",
     "text": [
      "{'芒果': 13, '草莓': 15, '梨子': 18, '西瓜': 16, '葡萄': 12, '香蕉': 14, '苹果': 12}\n"
     ]
    }
   ],
   "source": [
    "import random\n",
    "dic = {}\n",
    "fruit = ['香蕉', '草莓', '苹果', '梨子', '西瓜', '芒果', '葡萄']\n",
    "for i in range(100):\n",
    "    f = random.choice(fruit)\n",
    "    if f in dic:\n",
    "        dic[f] += 1\n",
    "    else:\n",
    "        dic[f] = 1\n",
    " \n",
    "print(dic)"
   ]
  },
  {
   "cell_type": "code",
   "execution_count": 13,
   "metadata": {},
   "outputs": [
    {
     "name": "stdout",
     "output_type": "stream",
     "text": [
      "请输入一个整数：9\n",
      "9=3*3\n"
     ]
    }
   ],
   "source": [
    "def fenjie(number):\n",
    "    lst = []\n",
    "    for i in range(2, number):\n",
    "        while number % i == 0:\n",
    "            lst.append(i)\n",
    "            number = number /i\n",
    "            if number > 2:\n",
    "                fenjie(int(number))\n",
    "    return lst\n",
    "def print_list(input_number, lst):\n",
    "    s = input_number\n",
    "    s = s + '='\n",
    "    for m in lst:\n",
    "        s += (str(m) + '*')\n",
    "    print(s[:-1])\n",
    "if __name__ == '__main__':\n",
    "    input_number = input('请输入一个整数：')\n",
    "    ls = fenjie(int(input_number))\n",
    "    print_list(input_number, ls)"
   ]
  },
  {
   "cell_type": "code",
   "execution_count": 14,
   "metadata": {},
   "outputs": [
    {
     "name": "stdout",
     "output_type": "stream",
     "text": [
      "7744\n"
     ]
    }
   ],
   "source": [
    "import math\n",
    "for i in range(1000, 10000):\n",
    "    n, m = str(math.sqrt(i)).split('.')\n",
    "    if m == '0' and i//1000 == int(str(i)[1]) and i % 10 == int(str(i)[-2]):\n",
    "        print(i)\n"
   ]
  },
  {
   "cell_type": "code",
   "execution_count": null,
   "metadata": {},
   "outputs": [],
   "source": []
  }
 ],
 "metadata": {
  "kernelspec": {
   "display_name": "Python 3",
   "language": "python",
   "name": "python3"
  },
  "language_info": {
   "codemirror_mode": {
    "name": "ipython",
    "version": 3
   },
   "file_extension": ".py",
   "mimetype": "text/x-python",
   "name": "python",
   "nbconvert_exporter": "python",
   "pygments_lexer": "ipython3",
   "version": "3.6.8"
  }
 },
 "nbformat": 4,
 "nbformat_minor": 2
}
