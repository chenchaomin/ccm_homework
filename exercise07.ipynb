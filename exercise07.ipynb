{
 "cells": [
  {
   "cell_type": "code",
   "execution_count": 1,
   "metadata": {},
   "outputs": [
    {
     "name": "stdout",
     "output_type": "stream",
     "text": [
      "03\n",
      "04\n",
      "05\n",
      "06\n"
     ]
    }
   ],
   "source": [
    "import time\n",
    "for i in range(4):\n",
    "    print(str(int(time.time()))[-2:])\n",
    "    time.sleep(1)"
   ]
  },
  {
   "cell_type": "code",
   "execution_count": 2,
   "metadata": {},
   "outputs": [
    {
     "name": "stdout",
     "output_type": "stream",
     "text": [
      "2019-01-17 22:13:57\n",
      "2019-01-17 22:13:58\n",
      "2019-01-17 22:13:59\n",
      "2019-01-17 22:14:00\n"
     ]
    }
   ],
   "source": [
    "import time\n",
    "for i in range(4):\n",
    "    print(time.strftime('%Y-%m-%d %H:%M:%S',time.localtime(time.time())))\n",
    "    time.sleep(1)"
   ]
  },
  {
   "cell_type": "code",
   "execution_count": 3,
   "metadata": {},
   "outputs": [
    {
     "name": "stdout",
     "output_type": "stream",
     "text": [
      "繁殖几个月？： 8\n",
      "第1个月共 1 对兔子\n",
      "其中1月兔： 0\n",
      "其中2月兔： 1\n",
      "其中3月兔： 0\n",
      "其中成年兔： 0\n",
      "第2个月共 1 对兔子\n",
      "其中1月兔： 0\n",
      "其中2月兔： 0\n",
      "其中3月兔： 1\n",
      "其中成年兔： 0\n",
      "第3个月共 2 对兔子\n",
      "其中1月兔： 1\n",
      "其中2月兔： 0\n",
      "其中3月兔： 0\n",
      "其中成年兔： 1\n",
      "第4个月共 3 对兔子\n",
      "其中1月兔： 1\n",
      "其中2月兔： 1\n",
      "其中3月兔： 0\n",
      "其中成年兔： 1\n",
      "第5个月共 4 对兔子\n",
      "其中1月兔： 1\n",
      "其中2月兔： 1\n",
      "其中3月兔： 1\n",
      "其中成年兔： 1\n",
      "第6个月共 6 对兔子\n",
      "其中1月兔： 2\n",
      "其中2月兔： 1\n",
      "其中3月兔： 1\n",
      "其中成年兔： 2\n",
      "第7个月共 9 对兔子\n",
      "其中1月兔： 3\n",
      "其中2月兔： 2\n",
      "其中3月兔： 1\n",
      "其中成年兔： 3\n",
      "第8个月共 13 对兔子\n",
      "其中1月兔： 4\n",
      "其中2月兔： 3\n",
      "其中3月兔： 2\n",
      "其中成年兔： 4\n"
     ]
    }
   ],
   "source": [
    "month=int(input('繁殖几个月？： '))\n",
    "month_1=1\n",
    "month_2=0\n",
    "month_3=0\n",
    "month_elder=0\n",
    "for i in range(month):\n",
    "    month_1,month_2,month_3,month_elder=month_elder+month_3,month_1,month_2,month_elder+month_3\n",
    "    print('第%d个月共'%(i+1),month_1+month_2+month_3+month_elder,'对兔子')\n",
    "    print('其中1月兔：',month_1)\n",
    "    print('其中2月兔：',month_2)\n",
    "    print('其中3月兔：',month_3)\n",
    "    print('其中成年兔：',month_elder)"
   ]
  },
  {
   "cell_type": "code",
   "execution_count": 4,
   "metadata": {},
   "outputs": [
    {
     "name": "stdout",
     "output_type": "stream",
     "text": [
      "101\n",
      "103\n",
      "107\n",
      "109\n",
      "113\n",
      "127\n",
      "131\n",
      "137\n",
      "139\n",
      "149\n",
      "151\n",
      "157\n",
      "163\n",
      "167\n",
      "173\n",
      "179\n",
      "181\n",
      "191\n",
      "193\n",
      "197\n",
      "199\n",
      "\n",
      "Simplify the code with \"else\"\n",
      "\n",
      "101\n",
      "103\n",
      "107\n",
      "109\n",
      "113\n",
      "127\n",
      "131\n",
      "137\n",
      "139\n",
      "149\n",
      "151\n",
      "157\n",
      "163\n",
      "167\n",
      "173\n",
      "179\n",
      "181\n",
      "191\n",
      "193\n",
      "197\n",
      "199\n"
     ]
    }
   ],
   "source": [
    "import math\n",
    "for i in range(100,200):\n",
    "    flag=0\n",
    "    for j in range(2,round(math.sqrt(i))+1):\n",
    "        if i%j==0:\n",
    "            flag=1\n",
    "            break\n",
    "    if flag:\n",
    "        continue\n",
    "    print(i)\n",
    "\n",
    "\n",
    "print('\\nSimplify the code with \"else\"\\n')\n",
    "\n",
    "\n",
    "for i in range(100,200):\n",
    "    for j in range(2,round(math.sqrt(i))+1):\n",
    "        if i%j==0:\n",
    "            break\n",
    "    else:\n",
    "        print(i)"
   ]
  },
  {
   "cell_type": "code",
   "execution_count": 5,
   "metadata": {},
   "outputs": [
    {
     "name": "stdout",
     "output_type": "stream",
     "text": [
      "153\n",
      "370\n",
      "371\n",
      "407\n"
     ]
    }
   ],
   "source": [
    "for i in range(100,1000):\n",
    "    s=str(i)\n",
    "    one=int(s[-1])\n",
    "    ten=int(s[-2])\n",
    "    hun=int(s[-3])\n",
    "    if i == one**3+ten**3+hun**3:\n",
    "        print(i)"
   ]
  },
  {
   "cell_type": "code",
   "execution_count": null,
   "metadata": {},
   "outputs": [],
   "source": []
  }
 ],
 "metadata": {
  "kernelspec": {
   "display_name": "Python 3",
   "language": "python",
   "name": "python3"
  },
  "language_info": {
   "codemirror_mode": {
    "name": "ipython",
    "version": 3
   },
   "file_extension": ".py",
   "mimetype": "text/x-python",
   "name": "python",
   "nbconvert_exporter": "python",
   "pygments_lexer": "ipython3",
   "version": "3.6.8"
  }
 },
 "nbformat": 4,
 "nbformat_minor": 2
}
