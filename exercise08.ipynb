{
 "cells": [
  {
   "cell_type": "code",
   "execution_count": 2,
   "metadata": {},
   "outputs": [
    {
     "name": "stdout",
     "output_type": "stream",
     "text": [
      "输入分数：5\n",
      "C\n"
     ]
    }
   ],
   "source": [
    "points=int(input('输入分数：'))\n",
    "if points>=90:\n",
    "    grade='A'\n",
    "elif points<60:\n",
    "    grade='C'\n",
    "else:\n",
    "    grade='B'\n",
    "print(grade)"
   ]
  },
  {
   "cell_type": "code",
   "execution_count": 3,
   "metadata": {},
   "outputs": [
    {
     "name": "stdout",
     "output_type": "stream",
     "text": [
      "2019-01-17\n",
      "2333-02-03\n",
      "17/01/2019\n",
      "1133-02-03\n"
     ]
    }
   ],
   "source": [
    "import datetime\n",
    "print(datetime.date.today())\n",
    "print(datetime.date(2333,2,3))\n",
    "print(datetime.date.today().strftime('%d/%m/%Y'))\n",
    "day=datetime.date(1111,2,3)\n",
    "day=day.replace(year=day.year+22)\n",
    "print(day)"
   ]
  },
  {
   "cell_type": "code",
   "execution_count": 4,
   "metadata": {},
   "outputs": [
    {
     "name": "stdout",
     "output_type": "stream",
     "text": [
      "输入字符串：hallo\n",
      "space:  0\n",
      "digit:  0\n",
      "alpha:  5\n",
      "other:  0\n"
     ]
    }
   ],
   "source": [
    "string=input(\"输入字符串：\")\n",
    "alp=0\n",
    "num=0\n",
    "spa=0\n",
    "oth=0\n",
    "for i in range(len(string)):\n",
    "    if string[i].isspace():\n",
    "        spa+=1\n",
    "    elif string[i].isdigit():\n",
    "        num+=1\n",
    "    elif string[i].isalpha():\n",
    "        alp+=1\n",
    "    else:\n",
    "        oth+=1\n",
    "print('space: ',spa)\n",
    "print('digit: ',num)\n",
    "print('alpha: ',alp)\n",
    "print('other: ',oth)"
   ]
  },
  {
   "cell_type": "code",
   "execution_count": 5,
   "metadata": {},
   "outputs": [
    {
     "name": "stdout",
     "output_type": "stream",
     "text": [
      "被加数字：2\n",
      "加几次？：6\n",
      "结果是： 246912\n"
     ]
    }
   ],
   "source": [
    "a=input('被加数字：')\n",
    "n=int(input('加几次？：'))\n",
    "res=0\n",
    "for i in range(n):\n",
    "    res+=int(a)\n",
    "    a+=a[0]\n",
    "print('结果是：',res)\n"
   ]
  },
  {
   "cell_type": "code",
   "execution_count": null,
   "metadata": {},
   "outputs": [],
   "source": []
  }
 ],
 "metadata": {
  "kernelspec": {
   "display_name": "Python 3",
   "language": "python",
   "name": "python3"
  },
  "language_info": {
   "codemirror_mode": {
    "name": "ipython",
    "version": 3
   },
   "file_extension": ".py",
   "mimetype": "text/x-python",
   "name": "python",
   "nbconvert_exporter": "python",
   "pygments_lexer": "ipython3",
   "version": "3.6.8"
  }
 },
 "nbformat": 4,
 "nbformat_minor": 2
}
