{
 "cells": [
  {
   "cell_type": "code",
   "execution_count": 1,
   "metadata": {},
   "outputs": [
    {
     "name": "stdout",
     "output_type": "stream",
     "text": [
      "6\n",
      "28\n",
      "496\n"
     ]
    }
   ],
   "source": [
    "def factor(num):\n",
    "    target=int(num)\n",
    "    res=set()\n",
    "    for i in range(1,num):\n",
    "        if num%i==0:\n",
    "            res.add(i)\n",
    "            res.add(num/i)\n",
    "    return res\n",
    "\n",
    "for i in range(2,1001):\n",
    "    if i==sum(factor(i))-i:\n",
    "        print(i)"
   ]
  },
  {
   "cell_type": "code",
   "execution_count": 2,
   "metadata": {},
   "outputs": [
    {
     "name": "stdout",
     "output_type": "stream",
     "text": [
      "50.0\n",
      "25.0\n",
      "12.5\n",
      "6.25\n",
      "3.125\n",
      "1.5625\n",
      "0.78125\n",
      "0.390625\n",
      "0.1953125\n",
      "0.09765625\n",
      "总长： 299.8046875\n"
     ]
    }
   ],
   "source": [
    "high=200.\n",
    "total=100\n",
    "for i in range(10):\n",
    "    high/=2\n",
    "    total+=high\n",
    "    print(high/2)\n",
    "print('总长：',total)\n"
   ]
  },
  {
   "cell_type": "code",
   "execution_count": 3,
   "metadata": {},
   "outputs": [
    {
     "name": "stdout",
     "output_type": "stream",
     "text": [
      "1534\n"
     ]
    }
   ],
   "source": [
    "peach=1\n",
    "for i in range(9):\n",
    "    peach=(peach+1)*2\n",
    "print(peach)"
   ]
  },
  {
   "cell_type": "code",
   "execution_count": 4,
   "metadata": {},
   "outputs": [
    {
     "name": "stdout",
     "output_type": "stream",
     "text": [
      "a:z,b:x,c:y\n"
     ]
    }
   ],
   "source": [
    "a=set(['x','y','z'])\n",
    "b=set(['x','y','z'])\n",
    "c=set(['x','y','z'])\n",
    "c-=set(('x','z'))\n",
    "a-=set('x')\n",
    "for i in a:\n",
    "    for j in b:\n",
    "        for k in c:\n",
    "            if len(set((i,j,k)))==3:\n",
    "                print('a:%s,b:%s,c:%s'%(i,j,k))\n",
    "                "
   ]
  },
  {
   "cell_type": "code",
   "execution_count": 5,
   "metadata": {},
   "outputs": [
    {
     "name": "stdout",
     "output_type": "stream",
     "text": [
      "    *    \n",
      "   ***   \n",
      "  *****  \n",
      " ******* \n",
      "  *****  \n",
      "   ***   \n",
      "    *    \n"
     ]
    }
   ],
   "source": [
    "def draw(num):\n",
    "    a=\"*\"*(2*(4-num)+1)\n",
    "    print(a.center(9,' '))\n",
    "    if num!=1:\n",
    "        draw(num-1)\n",
    "        print(a.center(9,' '))\n",
    "draw(4)\n"
   ]
  },
  {
   "cell_type": "code",
   "execution_count": null,
   "metadata": {},
   "outputs": [],
   "source": []
  }
 ],
 "metadata": {
  "kernelspec": {
   "display_name": "Python 3",
   "language": "python",
   "name": "python3"
  },
  "language_info": {
   "codemirror_mode": {
    "name": "ipython",
    "version": 3
   },
   "file_extension": ".py",
   "mimetype": "text/x-python",
   "name": "python",
   "nbconvert_exporter": "python",
   "pygments_lexer": "ipython3",
   "version": "3.6.8"
  }
 },
 "nbformat": 4,
 "nbformat_minor": 2
}
