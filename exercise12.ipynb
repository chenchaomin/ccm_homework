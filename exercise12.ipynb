{
 "cells": [
  {
   "cell_type": "code",
   "execution_count": 1,
   "metadata": {},
   "outputs": [
    {
     "name": "stdout",
     "output_type": "stream",
     "text": [
      "Hello World!\n",
      "Hello World!\n"
     ]
    }
   ],
   "source": [
    "def hello():\n",
    "    print('Hello World!')\n",
    "def helloAgain():\n",
    "    for i in range(2):\n",
    "        hello()\n",
    "if __name__=='__main__':\n",
    "    helloAgain()"
   ]
  },
  {
   "cell_type": "code",
   "execution_count": 2,
   "metadata": {},
   "outputs": [
    {
     "name": "stdout",
     "output_type": "stream",
     "text": [
      "\u001b[93m警告的颜色字体?\u001b[0m\n"
     ]
    }
   ],
   "source": [
    "class bcolors:\n",
    "    HEADER = '\\033[95m'\n",
    "    OKBLUE = '\\033[94m'\n",
    "    OKGREEN = '\\033[92m'\n",
    "    WARNING = '\\033[93m'\n",
    "    FAIL = '\\033[91m'\n",
    "    ENDC = '\\033[0m'\n",
    "    BOLD = '\\033[1m'\n",
    "    UNDERLINE = '\\033[4m'\n",
    "print(bcolors.WARNING + \"警告的颜色字体?\" + bcolors.ENDC)"
   ]
  },
  {
   "cell_type": "code",
   "execution_count": 3,
   "metadata": {},
   "outputs": [
    {
     "name": "stdout",
     "output_type": "stream",
     "text": [
      "int0: 11\n",
      "int1: 23\n",
      "int2: 2\n",
      "int3: 3\n",
      "int4: 6\n",
      "int5: 8\n",
      "int6: 5\n",
      "int7: 5\n",
      "int8: 4\n",
      "int9: 78\n",
      "[2, 3, 4, 5, 5, 6, 8, 11, 23, 78]\n"
     ]
    }
   ],
   "source": [
    "raw=[]\n",
    "for i in range(10):\n",
    "    x=int(input('int%d: '%(i)))\n",
    "    raw.append(x)\n",
    "    \n",
    "for i in range(len(raw)):\n",
    "    for j in range(i,len(raw)):\n",
    "        if raw[i]>raw[j]:\n",
    "            raw[i],raw[j]=raw[j],raw[i]\n",
    "print(raw)"
   ]
  },
  {
   "cell_type": "code",
   "execution_count": 4,
   "metadata": {},
   "outputs": [
    {
     "name": "stdout",
     "output_type": "stream",
     "text": [
      "11\n"
     ]
    }
   ],
   "source": [
    "mat=[[1,2,3],\n",
    "     [3,4,5],\n",
    "     [4,5,6]\n",
    "    ]\n",
    "res=0\n",
    "for i in range(len(mat)):\n",
    "    res+=mat[i][i]\n",
    "print(res)"
   ]
  },
  {
   "cell_type": "code",
   "execution_count": 5,
   "metadata": {},
   "outputs": [
    {
     "name": "stdout",
     "output_type": "stream",
     "text": [
      "insert a number: 45\n",
      "[1, 10, 45, 100, 1000, 10000, 100000]\n"
     ]
    }
   ],
   "source": [
    "lis=[1,10,100,1000,10000,100000]\n",
    "n=int(input('insert a number: '))\n",
    "lis.append(n)\n",
    "for i in range(len(lis)-1):\n",
    "    if lis[i]>=n:\n",
    "        for j in range(i,len(lis)):\n",
    "            lis[j],lis[-1]=lis[-1],lis[j]\n",
    "        break\n",
    "print(lis)"
   ]
  },
  {
   "cell_type": "code",
   "execution_count": null,
   "metadata": {},
   "outputs": [],
   "source": []
  }
 ],
 "metadata": {
  "kernelspec": {
   "display_name": "Python 3",
   "language": "python",
   "name": "python3"
  },
  "language_info": {
   "codemirror_mode": {
    "name": "ipython",
    "version": 3
   },
   "file_extension": ".py",
   "mimetype": "text/x-python",
   "name": "python",
   "nbconvert_exporter": "python",
   "pygments_lexer": "ipython3",
   "version": "3.6.8"
  }
 },
 "nbformat": 4,
 "nbformat_minor": 2
}
