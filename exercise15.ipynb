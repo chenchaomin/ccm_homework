{
 "cells": [
  {
   "cell_type": "code",
   "execution_count": 1,
   "metadata": {},
   "outputs": [
    {
     "name": "stdout",
     "output_type": "stream",
     "text": [
      "63\n",
      "63\n"
     ]
    }
   ],
   "source": [
    "a=0o77\n",
    "print(a|3)\n",
    "print(a|3|7)"
   ]
  },
  {
   "cell_type": "code",
   "execution_count": 2,
   "metadata": {},
   "outputs": [
    {
     "name": "stdout",
     "output_type": "stream",
     "text": [
      "60\n",
      "59\n"
     ]
    }
   ],
   "source": [
    "a=0o77\n",
    "print(a^3)\n",
    "print(a^3^7)"
   ]
  },
  {
   "cell_type": "code",
   "execution_count": 3,
   "metadata": {},
   "outputs": [],
   "source": [
    "from tkinter import *\n",
    "canvas=Canvas(width=800,height=600,bg='yellow')\n",
    "canvas.pack(expand=YES,fill=BOTH)\n",
    "k=1\n",
    "j=1\n",
    "for i in range(26):\n",
    "    canvas.create_oval(310-k,250-k,310+k,250+k,width=1)\n",
    "    k+=j\n",
    "    j+=0.3\n",
    "mainloop()"
   ]
  },
  {
   "cell_type": "code",
   "execution_count": 6,
   "metadata": {},
   "outputs": [],
   "source": [
    "if __name__ == '__main__':\n",
    "    from tkinter import *\n",
    " \n",
    "    canvas = Canvas(width=300, height=300, bg='green')   \n",
    "    canvas.pack(expand=YES, fill=BOTH)                  \n",
    "    x0 = 263\n",
    "    y0 = 263\n",
    "    y1 = 275\n",
    "    x1 = 275\n",
    "    for i in range(19):\n",
    "        canvas.create_line(x0,y0,x0,y1, width=1, fill='red')\n",
    "        x0 = x0 - 5\n",
    "        y0 = y0 - 5\n",
    "        x1 = x1 + 5\n",
    "        y1 = y1 + 5\n",
    " \n",
    "    x0 = 263\n",
    "    y1 = 275\n",
    "    y0 = 263\n",
    "    for i in range(21):\n",
    "        canvas.create_line(x0,y0,x0,y1,fill = 'red')\n",
    "        x0 += 5\n",
    "        y0 += 5\n",
    "        y1 += 5\n",
    "    mainloop()   "
   ]
  },
  {
   "cell_type": "code",
   "execution_count": 9,
   "metadata": {},
   "outputs": [],
   "source": [
    "if __name__ == '__main__':\n",
    "    from tkinter import *\n",
    "    root = Tk()\n",
    "    root.title('Canvas')\n",
    "    canvas = Canvas(root,width = 400,height = 400,bg = 'yellow')\n",
    "    x0 = 263\n",
    "    y0 = 263\n",
    "    y1 = 275\n",
    "    x1 = 275\n",
    "    for i in range(19):\n",
    "        canvas.create_rectangle(x0,y0,x1,y1)\n",
    "        x0 -= 5\n",
    "        y0 -= 5\n",
    "        x1 += 5\n",
    "        y1 += 5\n",
    "        \n",
    "    canvas.pack()\n",
    "    root.mainloop()"
   ]
  },
  {
   "cell_type": "code",
   "execution_count": null,
   "metadata": {},
   "outputs": [],
   "source": []
  }
 ],
 "metadata": {
  "kernelspec": {
   "display_name": "Python 3",
   "language": "python",
   "name": "python3"
  },
  "language_info": {
   "codemirror_mode": {
    "name": "ipython",
    "version": 3
   },
   "file_extension": ".py",
   "mimetype": "text/x-python",
   "name": "python",
   "nbconvert_exporter": "python",
   "pygments_lexer": "ipython3",
   "version": "3.6.8"
  }
 },
 "nbformat": 4,
 "nbformat_minor": 2
}
